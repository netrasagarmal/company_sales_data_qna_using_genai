{
 "cells": [
  {
   "cell_type": "code",
   "execution_count": 1,
   "id": "cc71f4a2",
   "metadata": {},
   "outputs": [],
   "source": [
    "from pydantic import BaseModel, Field\n",
    "from langchain.prompts import ChatPromptTemplate\n",
    "\n",
    "from typing import List\n",
    "from pydantic import BaseModel, Field\n",
    "from langchain.output_parsers import PydanticOutputParser"
   ]
  },
  {
   "cell_type": "code",
   "execution_count": 4,
   "id": "96f6c89b",
   "metadata": {},
   "outputs": [
    {
     "name": "stdout",
     "output_type": "stream",
     "text": [
      "Text written to: ./output_summary.txt\n"
     ]
    }
   ],
   "source": [
    "def a():\n",
    "    file_name = \"example_data.csv\"\n",
    "    file_format = \"CSV\"\n",
    "    summary_str = \"This file contains data related to sales transactions, including customer information, product details, and transaction amounts.\"\n",
    "    questions_str = \"1. What are the top 5 products by sales volume?\\n2. How does customer age correlate with purchase frequency?\\n3. What is the average transaction amount per customer?\\n4. Are there any seasonal trends in sales data?\"\n",
    "\n",
    "    final_summary = \"\"\"## File Summary:\\n\\n#### File Name: {}\\n#### File Format: {}\\n#### Description:\\n{}\\n\\n## Here are some questions that can be asked for EDA:\\n{}.\"\"\".format(\n",
    "        file_name if file_name else \"N/A\",\n",
    "        file_format if file_format else \"N/A\",\n",
    "        summary_str,\n",
    "        questions_str\n",
    "    )\n",
    "    return final_summary\n",
    "\n",
    "\n",
    "# Define the file path (you can change the name or path as needed)\n",
    "file_path = \"./output_summary.txt\"\n",
    "\n",
    "summ = a()\n",
    "# Write the text to the file\n",
    "with open(file_path, \"w\", encoding=\"utf-8\") as file:\n",
    "    file.write(summ)\n",
    "\n",
    "# Return the file path (optional)\n",
    "print(f\"Text written to: {file_path}\")"
   ]
  },
  {
   "cell_type": "code",
   "execution_count": null,
   "id": "01b3a1ee",
   "metadata": {},
   "outputs": [],
   "source": []
  }
 ],
 "metadata": {
  "kernelspec": {
   "display_name": "Python 3",
   "language": "python",
   "name": "python3"
  },
  "language_info": {
   "codemirror_mode": {
    "name": "ipython",
    "version": 3
   },
   "file_extension": ".py",
   "mimetype": "text/x-python",
   "name": "python",
   "nbconvert_exporter": "python",
   "pygments_lexer": "ipython3",
   "version": "3.11.9"
  }
 },
 "nbformat": 4,
 "nbformat_minor": 5
}
